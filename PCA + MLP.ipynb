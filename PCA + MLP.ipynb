{
 "cells": [
  {
   "cell_type": "code",
   "execution_count": 1,
   "metadata": {},
   "outputs": [
    {
     "name": "stderr",
     "output_type": "stream",
     "text": [
      "Using TensorFlow backend.\n"
     ]
    }
   ],
   "source": [
    "import os\n",
    "import glob\n",
    "import numpy as np\n",
    "import pandas as pd\n",
    "import matplotlib.pyplot as plt\n",
    "from sklearn.decomposition import PCA\n",
    "from PIL import Image\n",
    "import random\n",
    "from sklearn.utils import shuffle\n",
    "import tensorflow as tf\n",
    "from tensorflow.keras.models import Sequential\n",
    "from tensorflow.keras.layers import Dense\n",
    "from keras.callbacks import EarlyStopping,Callback,ModelCheckpoint\n",
    "from time import time\n",
    "import itertools\n",
    "from sklearn.metrics import confusion_matrix"
   ]
  },
  {
   "cell_type": "markdown",
   "metadata": {},
   "source": [
    "# Dataset generator"
   ]
  },
  {
   "cell_type": "code",
   "execution_count": 5,
   "metadata": {},
   "outputs": [],
   "source": [
    "def create_dataset(folder,shuffle_image = True):\n",
    "    image_array =[]\n",
    "    class_name = []\n",
    "    for dir_name in os.listdir(folder):\n",
    "        for file in os.listdir(os.path.join(folder,dir_name)):\n",
    "            image_path = os.path.join(folder,dir_name,file)\n",
    "            image = np.array(Image.open(image_path).resize((80,128)).convert('L')).flatten().reshape(1,-1)[0]\n",
    "            image = image.astype('float32')\n",
    "            image /= 255\n",
    "            image_array.append(image)\n",
    "            class_name.append(dir_name)\n",
    "    if shuffle_image == True:\n",
    "        image, classes = shuffle(np.array(image_array),np.array(class_name))\n",
    "    else:\n",
    "        image, classes = image_array,class_name\n",
    "    return image, classes    "
   ]
  },
  {
   "cell_type": "code",
   "execution_count": 6,
   "metadata": {},
   "outputs": [],
   "source": [
    "train = r'/jet/home/mhrahman/Projects/HW1/Output/train/'\n",
    "val =  r'/jet/home/mhrahman/Projects/HW1/Output/val/'\n",
    "test = r'/jet/home/mhrahman/Projects/HW1/Output/test/'"
   ]
  },
  {
   "cell_type": "code",
   "execution_count": 7,
   "metadata": {},
   "outputs": [],
   "source": [
    "train_image, train_lab = create_dataset(train)\n",
    "val_image,val_lab = create_dataset(val)\n",
    "test_image,test_lab = create_dataset(test,shuffle_image=False)"
   ]
  },
  {
   "cell_type": "code",
   "execution_count": 5,
   "metadata": {},
   "outputs": [],
   "source": [
    "train_dict = {k:v for v,k in enumerate(np.unique(train_lab))}\n",
    "train_label = [train_dict[train_lab[i]] for i in range(len(train_lab))]\n",
    "val_dict = {k:v for v,k in enumerate(np.unique(val_lab))}\n",
    "val_label = [val_dict[val_lab[i]] for i in range(len(val_lab))]\n",
    "test_dict = {k:v for v,k in enumerate(np.unique(test_lab))}\n",
    "test_label = [test_dict[test_lab[i]] for i in range(len(test_lab))] "
   ]
  },
  {
   "cell_type": "markdown",
   "metadata": {},
   "source": [
    "# Conversion to PCs"
   ]
  },
  {
   "cell_type": "code",
   "execution_count": 4,
   "metadata": {},
   "outputs": [],
   "source": [
    "def PCA_convert(array, n_component):\n",
    "    pca = PCA(n_components=n_component)\n",
    "    converted = pca.fit_transform(array)\n",
    "    return converted"
   ]
  },
  {
   "cell_type": "code",
   "execution_count": 1,
   "metadata": {},
   "outputs": [
    {
     "ename": "NameError",
     "evalue": "name 'PCA' is not defined",
     "output_type": "error",
     "traceback": [
      "\u001b[0;31m---------------------------------------------------------------------------\u001b[0m",
      "\u001b[0;31mNameError\u001b[0m                                 Traceback (most recent call last)",
      "\u001b[0;32m<ipython-input-1-7a23dae2d1b5>\u001b[0m in \u001b[0;36m<module>\u001b[0;34m\u001b[0m\n\u001b[0;32m----> 1\u001b[0;31m \u001b[0mpca\u001b[0m \u001b[0;34m=\u001b[0m \u001b[0mPCA\u001b[0m\u001b[0;34m(\u001b[0m\u001b[0;36m2000\u001b[0m\u001b[0;34m)\u001b[0m\u001b[0;34m.\u001b[0m\u001b[0mfit\u001b[0m\u001b[0;34m(\u001b[0m\u001b[0mnp\u001b[0m\u001b[0;34m.\u001b[0m\u001b[0marray\u001b[0m\u001b[0;34m(\u001b[0m\u001b[0mtrain_image\u001b[0m\u001b[0;34m)\u001b[0m\u001b[0;34m)\u001b[0m\u001b[0;34m\u001b[0m\u001b[0;34m\u001b[0m\u001b[0m\n\u001b[0m\u001b[1;32m      2\u001b[0m \u001b[0mexp_var_pca\u001b[0m \u001b[0;34m=\u001b[0m \u001b[0mpca\u001b[0m\u001b[0;34m.\u001b[0m\u001b[0mexplained_variance_ratio_\u001b[0m\u001b[0;34m\u001b[0m\u001b[0;34m\u001b[0m\u001b[0m\n\u001b[1;32m      3\u001b[0m \u001b[0mcum_sum_eigenvalues\u001b[0m \u001b[0;34m=\u001b[0m \u001b[0mnp\u001b[0m\u001b[0;34m.\u001b[0m\u001b[0mcumsum\u001b[0m\u001b[0;34m(\u001b[0m\u001b[0mexp_var_pca\u001b[0m\u001b[0;34m)\u001b[0m\u001b[0;34m\u001b[0m\u001b[0;34m\u001b[0m\u001b[0m\n\u001b[1;32m      4\u001b[0m \u001b[0mplt\u001b[0m\u001b[0;34m.\u001b[0m\u001b[0mfigure\u001b[0m\u001b[0;34m(\u001b[0m\u001b[0mfigsize\u001b[0m\u001b[0;34m=\u001b[0m\u001b[0;34m(\u001b[0m\u001b[0;36m10\u001b[0m\u001b[0;34m,\u001b[0m\u001b[0;36m6\u001b[0m\u001b[0;34m)\u001b[0m\u001b[0;34m)\u001b[0m\u001b[0;34m\u001b[0m\u001b[0;34m\u001b[0m\u001b[0m\n\u001b[1;32m      5\u001b[0m \u001b[0mplt\u001b[0m\u001b[0;34m.\u001b[0m\u001b[0mbar\u001b[0m\u001b[0;34m(\u001b[0m\u001b[0mrange\u001b[0m\u001b[0;34m(\u001b[0m\u001b[0;36m1\u001b[0m\u001b[0;34m,\u001b[0m\u001b[0mlen\u001b[0m\u001b[0;34m(\u001b[0m\u001b[0mexp_var_pca\u001b[0m\u001b[0;34m)\u001b[0m\u001b[0;34m+\u001b[0m\u001b[0;36m1\u001b[0m\u001b[0;34m)\u001b[0m\u001b[0;34m,\u001b[0m \u001b[0mexp_var_pca\u001b[0m\u001b[0;34m,\u001b[0m \u001b[0malpha\u001b[0m\u001b[0;34m=\u001b[0m\u001b[0;36m0.5\u001b[0m\u001b[0;34m,\u001b[0m \u001b[0malign\u001b[0m\u001b[0;34m=\u001b[0m\u001b[0;34m'center'\u001b[0m\u001b[0;34m,\u001b[0m \u001b[0mlabel\u001b[0m\u001b[0;34m=\u001b[0m\u001b[0;34m'Individual explained variance'\u001b[0m\u001b[0;34m)\u001b[0m\u001b[0;34m\u001b[0m\u001b[0;34m\u001b[0m\u001b[0m\n",
      "\u001b[0;31mNameError\u001b[0m: name 'PCA' is not defined"
     ]
    }
   ],
   "source": [
    "pca = PCA(2000).fit(np.array(train_image))\n",
    "exp_var_pca = pca.explained_variance_ratio_\n",
    "cum_sum_eigenvalues = np.cumsum(exp_var_pca)\n",
    "plt.figure(figsize=(10,6))\n",
    "plt.bar(range(1,len(exp_var_pca)+1), exp_var_pca, alpha=0.5, align='center', label='Individual explained variance')\n",
    "plt.step(range(1,len(cum_sum_eigenvalues)+1), cum_sum_eigenvalues, where='mid',label='Cumulative explained variance')\n",
    "plt.ylabel('Explained variance ratio',fontsize = 16)\n",
    "plt.xlabel('Principal component index',fontsize = 16)\n",
    "plt.xticks(np.arange(1, 2001, step=100))\n",
    "plt.axhline(y=0.95, color='r', linestyle='-')\n",
    "plt.text(0.5, 0.85, '95% cut-off threshold', color = 'red', fontsize=16)\n",
    "plt.legend(loc='best')\n",
    "plt.tight_layout()\n",
    "plt.savefig('/jet/home/mhrahman/Projects/HW4/Figures/PCA_variance_main.jpg',dpi = 300)\n",
    "plt.show()"
   ]
  },
  {
   "cell_type": "code",
   "execution_count": 9,
   "metadata": {},
   "outputs": [],
   "source": [
    "t1 = time()\n",
    "PCs = 2000\n",
    "train_pca = PCA_convert(np.array(train_image),PCs)"
   ]
  },
  {
   "cell_type": "code",
   "execution_count": null,
   "metadata": {},
   "outputs": [],
   "source": [
    "val_pca = PCA_convert(np.array(val_image),PCs)\n",
    "test_pca = PCA_convert(np.array(test_image),PCs)"
   ]
  },
  {
   "cell_type": "markdown",
   "metadata": {},
   "source": [
    "# Model Setup"
   ]
  },
  {
   "cell_type": "code",
   "execution_count": 13,
   "metadata": {},
   "outputs": [],
   "source": [
    "nn_model = Sequential()\n",
    "nn_model.add(Dense(units=128,input_dim = PCs,activation = 'relu'))\n",
    "nn_model.add(Dense(units=64,activation='relu'))\n",
    "nn_model.add(Dense(units=2, activation='softmax'))"
   ]
  },
  {
   "cell_type": "code",
   "execution_count": 14,
   "metadata": {},
   "outputs": [],
   "source": [
    "class TimeCallback(Callback):\n",
    "    def on_train_begin(self,logs={}):\n",
    "        self.logs=[]\n",
    "    def on_epoch_begin(self,epoch,logs={}):\n",
    "        self.starttime = time()\n",
    "    def on_epoch_end(self,epoch,logs={}):\n",
    "        self.logs.append(time()-self.starttime)\n",
    "es = EarlyStopping(monitor='val_loss',mode='min',verbose=1, patience = 20,min_delta = 1)\n",
    "cb = TimeCallback()\n",
    "checkpoints = ModelCheckpoint('weight_03.hdf5',monitor='accuracy',verbose=1,save_best_only= True,mode='max')"
   ]
  },
  {
   "cell_type": "code",
   "execution_count": 15,
   "metadata": {},
   "outputs": [
    {
     "name": "stdout",
     "output_type": "stream",
     "text": [
      "Model: \"sequential\"\n",
      "_________________________________________________________________\n",
      "Layer (type)                 Output Shape              Param #   \n",
      "=================================================================\n",
      "dense (Dense)                (None, 128)               70528     \n",
      "_________________________________________________________________\n",
      "dense_1 (Dense)              (None, 64)                8256      \n",
      "_________________________________________________________________\n",
      "dense_2 (Dense)              (None, 2)                 130       \n",
      "=================================================================\n",
      "Total params: 78,914\n",
      "Trainable params: 78,914\n",
      "Non-trainable params: 0\n",
      "_________________________________________________________________\n"
     ]
    }
   ],
   "source": [
    "nn_model.compile(optimizer=tf.keras.optimizers.Adam(lr=0.001), loss='sparse_categorical_crossentropy', metrics=['accuracy'])\n",
    "nn_model.summary()\n",
    "with open('modelsummary.txt', 'w') as f:\n",
    "    nn_model.summary(print_fn=lambda x: f.write(x + '\\n'))"
   ]
  },
  {
   "cell_type": "code",
   "execution_count": 18,
   "metadata": {},
   "outputs": [
    {
     "name": "stdout",
     "output_type": "stream",
     "text": [
      "Train on 14333 samples, validate on 4777 samples\n",
      "Epoch 1/10\n",
      "14208/14333 [============================>.] - ETA: 0s - loss: 0.0354 - accuracy: 0.9918\n",
      "Epoch 00001: accuracy improved from -inf to 0.99184, saving model to weight_03.hdf5\n",
      "14333/14333 [==============================] - 15s 1ms/sample - loss: 0.0351 - accuracy: 0.9918 - val_loss: 0.0033 - val_accuracy: 0.9998\n",
      "Epoch 2/10\n",
      "14272/14333 [============================>.] - ETA: 0s - loss: 1.7829e-04 - accuracy: 1.0000\n",
      "Epoch 00002: accuracy improved from 0.99184 to 1.00000, saving model to weight_03.hdf5\n",
      "14333/14333 [==============================] - 16s 1ms/sample - loss: 1.7822e-04 - accuracy: 1.0000 - val_loss: 0.0022 - val_accuracy: 1.0000\n",
      "Epoch 3/10\n",
      "14272/14333 [============================>.] - ETA: 0s - loss: 6.7749e-05 - accuracy: 1.0000\n",
      "Epoch 00003: accuracy did not improve from 1.00000\n",
      "14333/14333 [==============================] - 17s 1ms/sample - loss: 6.7657e-05 - accuracy: 1.0000 - val_loss: 0.0017 - val_accuracy: 1.0000\n",
      "Epoch 4/10\n",
      "14272/14333 [============================>.] - ETA: 0s - loss: 3.5425e-05 - accuracy: 1.0000\n",
      "Epoch 00004: accuracy did not improve from 1.00000\n",
      "14333/14333 [==============================] - 17s 1ms/sample - loss: 3.5370e-05 - accuracy: 1.0000 - val_loss: 0.0015 - val_accuracy: 1.0000\n",
      "Epoch 5/10\n",
      "14272/14333 [============================>.] - ETA: 0s - loss: 2.1653e-05 - accuracy: 1.0000\n",
      "Epoch 00005: accuracy did not improve from 1.00000\n",
      "14333/14333 [==============================] - 17s 1ms/sample - loss: 2.1616e-05 - accuracy: 1.0000 - val_loss: 0.0013 - val_accuracy: 1.0000\n",
      "Epoch 6/10\n",
      "14272/14333 [============================>.] - ETA: 0s - loss: 1.4470e-05 - accuracy: 1.0000\n",
      "Epoch 00006: accuracy did not improve from 1.00000\n",
      "14333/14333 [==============================] - 18s 1ms/sample - loss: 1.4463e-05 - accuracy: 1.0000 - val_loss: 0.0012 - val_accuracy: 1.0000\n",
      "Epoch 7/10\n",
      "14272/14333 [============================>.] - ETA: 0s - loss: 1.0277e-05 - accuracy: 1.0000\n",
      "Epoch 00007: accuracy did not improve from 1.00000\n",
      "14333/14333 [==============================] - 15s 1ms/sample - loss: 1.0267e-05 - accuracy: 1.0000 - val_loss: 0.0011 - val_accuracy: 1.0000\n",
      "Epoch 8/10\n",
      "14208/14333 [============================>.] - ETA: 0s - loss: 7.5930e-06 - accuracy: 1.0000\n",
      "Epoch 00008: accuracy did not improve from 1.00000\n",
      "14333/14333 [==============================] - 14s 989us/sample - loss: 7.5980e-06 - accuracy: 1.0000 - val_loss: 0.0011 - val_accuracy: 1.0000\n",
      "Epoch 9/10\n",
      "14272/14333 [============================>.] - ETA: 0s - loss: 5.8026e-06 - accuracy: 1.0000\n",
      "Epoch 00009: accuracy did not improve from 1.00000\n",
      "14333/14333 [==============================] - 15s 1ms/sample - loss: 5.8011e-06 - accuracy: 1.0000 - val_loss: 0.0010 - val_accuracy: 1.0000\n",
      "Epoch 10/10\n",
      "14272/14333 [============================>.] - ETA: 0s - loss: 4.5343e-06 - accuracy: 1.0000\n",
      "Epoch 00010: accuracy did not improve from 1.00000\n",
      "14333/14333 [==============================] - 15s 1ms/sample - loss: 4.5350e-06 - accuracy: 1.0000 - val_loss: 9.5676e-04 - val_accuracy: 1.0000\n"
     ]
    }
   ],
   "source": [
    "model_history = nn_model.fit(train_pca,\n",
    "                          np.array(list(map(int,train_label)),np.float32),\n",
    "                          batch_size = 64,\n",
    "                          validation_data=(val_pca, np.array(list(map(int,val_label)),np.float32)), \n",
    "                             epochs=10, verbose=1, callbacks = [es,cb,checkpoints])"
   ]
  },
  {
   "cell_type": "markdown",
   "metadata": {},
   "source": [
    "# Model evaluation"
   ]
  },
  {
   "cell_type": "code",
   "execution_count": 19,
   "metadata": {},
   "outputs": [
    {
     "data": {
      "image/png": "[encoded data removed]",
      "text/plain": [
       "<Figure size 432x288 with 1 Axes>"
      ]
     },
     "metadata": {
      "needs_background": "light"
     },
     "output_type": "display_data"
    },
    {
     "data": {
      "image/png": "[encoded data removed]",
      "text/plain": [
       "<Figure size 432x288 with 1 Axes>"
      ]
     },
     "metadata": {
      "needs_background": "light"
     },
     "output_type": "display_data"
    }
   ],
   "source": [
    "#plot training and validation curve\n",
    "acc = model_history.history['accuracy']\n",
    "val_acc = model_history.history['val_accuracy']\n",
    "loss = model_history.history['loss']\n",
    "val_loss = model_history.history['val_loss']\n",
    "\n",
    "epochs = range(len(acc))\n",
    "\n",
    "plt.plot(epochs,acc,'r')\n",
    "plt.plot(epochs,val_acc,'b')\n",
    "plt.title('Training and validation accuracy')\n",
    "plt.xlabel('epochs')\n",
    "plt.ylabel('accuracy')\n",
    "plt.legend([\"Training Accuracy\",\"Validation Accuracy\"])\n",
    "plt.savefig('/jet/home/mhrahman/Projects/HW4/Figures/Classification_acc.jpg',dpi = 300)\n",
    "plt.show()\n",
    "\n",
    "\n",
    "plt.plot(epochs,loss,'r')\n",
    "plt.plot(epochs,val_loss,'b')\n",
    "plt.title('Training and validation loss')\n",
    "plt.xlabel('epochs')\n",
    "plt.ylabel('Loss')\n",
    "plt.legend([\"Training loss\",\"Validation loss\"])\n",
    "plt.savefig('/jet/home/mhrahman/Projects/HW4/Figures/Classification_loss.jpg',dpi = 300)\n",
    "plt.show()"
   ]
  },
  {
   "cell_type": "code",
   "execution_count": 20,
   "metadata": {},
   "outputs": [],
   "source": [
    "Y_pred_label = nn_model.predict_classes(test_pca)"
   ]
  },
  {
   "cell_type": "code",
   "execution_count": 21,
   "metadata": {},
   "outputs": [],
   "source": [
    "def plot_confusion_matrix(cm,classes,normalize = False,title = 'Confusion matrix',cmap = plt.cm.Blues):\n",
    "    if normalize:\n",
    "        cm = cm.astyle('float')/cm.sum(axis = 1)[:,np.newaxis]\n",
    "        print(\"Normalized confusion matrix\")\n",
    "    else:\n",
    "        print('Confusion matrix, without normazlization')\n",
    "    print(cm)\n",
    "    plt.imshow(cm,interpolation='nearest',cmap=cmap)\n",
    "    plt.title(title)\n",
    "    plt.colorbar\n",
    "    tick_marks = np.arange(len(classes))\n",
    "    plt.xticks(tick_marks,classes,rotation = 45)\n",
    "    plt.yticks(tick_marks,classes)\n",
    "    threshold = cm.max()/2\n",
    "    for i, j in itertools.product(range(cm.shape[0]),range(cm.shape[1])):\n",
    "        plt.text(j,i,cm[i,j],\n",
    "                horizontalalignment = 'center',\n",
    "                color = \"red\" if cm[i,j]> threshold else \"black\")\n",
    "    plt.tight_layout()\n",
    "    plt.ylabel('True label')\n",
    "    plt.xlabel('Predicted label')"
   ]
  },
  {
   "cell_type": "code",
   "execution_count": 22,
   "metadata": {},
   "outputs": [
    {
     "name": "stdout",
     "output_type": "stream",
     "text": [
      "Confusion matrix, without normazlization\n",
      "[[1897  537]\n",
      " [ 227 2119]]\n"
     ]
    },
    {
     "data": {
      "image/png": "[encoded data removed]",
      "text/plain": [
       "<Figure size 432x288 with 1 Axes>"
      ]
     },
     "metadata": {
      "needs_background": "light"
     },
     "output_type": "display_data"
    }
   ],
   "source": [
    "cm = confusion_matrix(test_label,Y_pred_label)\n",
    "cm_plot_labels = ['Pre','Post']\n",
    "plot_confusion_matrix(cm=cm,classes=cm_plot_labels)\n",
    "plt.savefig('/jet/home/mhrahman/Projects/HW4/Figures/Classification_conf_mat.jpg', dpi = 300)\n",
    "plt.show()"
   ]
  },
  {
   "cell_type": "code",
   "execution_count": 27,
   "metadata": {},
   "outputs": [
    {
     "name": "stdout",
     "output_type": "stream",
     "text": [
      "Accuracy: 0.8401673640167364\n",
      "Precision: 0.797816265060241\n",
      "Recall: 0.9032395566922421\n",
      "F1_score: 0.8472610955617752\n"
     ]
    }
   ],
   "source": [
    "from sklearn.metrics import accuracy_score,precision_score,recall_score,f1_score,roc_curve,roc_auc_score\n",
    "accuray = accuracy_score(test_label,Y_pred_label)\n",
    "precision = precision_score(test_label,Y_pred_label)\n",
    "recall = recall_score(test_label,Y_pred_label)\n",
    "F1 = f1_score(test_label,Y_pred_label)\n",
    "print('Accuracy: {}'.format(accuray))\n",
    "print('Precision: {}'.format(precision))\n",
    "print('Recall: {}'.format(recall))\n",
    "print('F1_score: {}'.format(F1))"
   ]
  },
  {
   "cell_type": "code",
   "execution_count": 25,
   "metadata": {},
   "outputs": [
    {
     "name": "stdout",
     "output_type": "stream",
     "text": [
      "0.8413075351250857\n"
     ]
    }
   ],
   "source": [
    "auc_score = roc_auc_score(test_label,Y_pred_label)\n",
    "fpr,tpr,_ = roc_curve(test_label,Y_pred_label)\n",
    "print(auc_score)"
   ]
  },
  {
   "cell_type": "code",
   "execution_count": 26,
   "metadata": {},
   "outputs": [
    {
     "data": {
      "image/png": "[encoded data removed]",
      "text/plain": [
       "<Figure size 432x288 with 1 Axes>"
      ]
     },
     "metadata": {
      "needs_background": "light"
     },
     "output_type": "display_data"
    }
   ],
   "source": [
    "plt.plot(fpr,tpr,linestyle = '-',label = 'MLP')\n",
    "plt.plot([0, 1], [0, 1], color='navy', lw=2, linestyle='--')\n",
    "plt.xlabel('False Positive Rate')\n",
    "plt.ylabel('True Positive Rate')\n",
    "plt.legend()\n",
    "plt.savefig('/jet/home/mhrahman/Projects/HW4/Figures/Roc_curve.jpg',dpi = 300)\n",
    "plt.show()"
   ]
  },
  {
   "cell_type": "code",
   "execution_count": null,
   "metadata": {},
   "outputs": [],
   "source": [
    "t2 = time()\n",
    "print('Time:', t2 - t1)"
   ]
  }
 ],
 "metadata": {
  "kernelspec": {
   "display_name": "Python 3",
   "language": "python",
   "name": "python3"
  },
  "language_info": {
   "codemirror_mode": {
    "name": "ipython",
    "version": 3
   },
   "file_extension": ".py",
   "mimetype": "text/x-python",
   "name": "python",
   "nbconvert_exporter": "python",
   "pygments_lexer": "ipython3",
   "version": "3.7.9"
  }
 },
 "nbformat": 4,
 "nbformat_minor": 4
}
